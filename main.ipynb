{
 "cells": [
  {
   "cell_type": "markdown",
   "metadata": {},
   "source": [
    "## Code to generate MOST COMMONLY USED 3000 KANJIS\n",
    "\n",
    "Visit [danyelkoca.com/en/blog/kanji](https://www.danyelkoca.com/en/blog/kanji) for a blogpost covering this code\n"
   ]
  },
  {
   "cell_type": "code",
   "execution_count": 1,
   "metadata": {},
   "outputs": [],
   "source": [
    "# Import needed libraries\n",
    "import pandas as pd\n",
    "import json"
   ]
  },
  {
   "cell_type": "code",
   "execution_count": 2,
   "metadata": {},
   "outputs": [],
   "source": [
    "# Read data from the appropriate sheet\n",
    "orig_df = pd.read_excel(\n",
    "    \"data/VDRJ_Ver1_1_Research_Top60894.xlsx\",\n",
    "    sheet_name=\"重要度順語彙リスト60894語\",\n",
    ")"
   ]
  },
  {
   "cell_type": "code",
   "execution_count": 3,
   "metadata": {},
   "outputs": [],
   "source": [
    "# Function that detects whether a word includes a kanji\n",
    "def kanji_detector(word):\n",
    "    kanji = False\n",
    "    non_jp_char = False\n",
    "    for char in word:\n",
    "        if (\n",
    "            \"\\u4e00\" <= char <= \"\\u9faf\"\n",
    "            or \"\\u3400\" <= char <= \"\\u4dbf\"\n",
    "            or \"\\uf900\" <= char <= \"\\ufaff\"\n",
    "        ):\n",
    "            kanji = True\n",
    "        if (\n",
    "            not (\"\\u4e00\" <= char <= \"\\u9faf\")\n",
    "            and not (\"\\u3400\" <= char <= \"\\u4dbf\")\n",
    "            and not (\"\\uf900\" <= char <= \"\\ufaff\")\n",
    "            and not (\"\\u3040\" <= char <= \"\\u30ff\")\n",
    "        ):\n",
    "            non_jp_char = True\n",
    "\n",
    "    return kanji and not (non_jp_char)"
   ]
  },
  {
   "cell_type": "code",
   "execution_count": 4,
   "metadata": {},
   "outputs": [],
   "source": [
    "# Get the relevant column\n",
    "df = (\n",
    "    orig_df[[\"見出し語彙素\\nLexeme\"]]\n",
    "    .astype(str)\n",
    "    .rename(columns={\"見出し語彙素\\nLexeme\": \"word\"})\n",
    ")\n",
    "\n",
    "# Get words that are at least 2 character long and includes a kanji\n",
    "df = df[df[\"word\"].str.len() > 1]\n",
    "df[\"kanji\"] = df[\"word\"].apply(kanji_detector)\n",
    "df = df[df[\"kanji\"]].drop(\"kanji\", axis=1).reset_index(drop=True)"
   ]
  },
  {
   "cell_type": "code",
   "execution_count": 5,
   "metadata": {},
   "outputs": [],
   "source": [
    "# Loop through the data to calculate the prevalance score of each Kanji\n",
    "kanjis = {}\n",
    "for index, word in enumerate(df[\"word\"].to_list()):\n",
    "    for char in word:\n",
    "        if \"\\u4e00\" <= char <= \"\\u9faf\" or \"\\u3400\" <= char <= \"\\u4dbf\":\n",
    "            if char in kanjis:\n",
    "                kanjis[char][\"count\"] += 1\n",
    "                # Prevalence score is calculated as the inverse of commonness of a word\n",
    "                # If a word is common, it will contribute higher to the rank of Kanji\n",
    "                kanjis[char][\"score\"] += 1 / (index + 1)\n",
    "                if word not in [i[\"word\"] for i in kanjis[char][\"words\"]]:\n",
    "                    ## Importance shows how commonly used that word is, lower the better\n",
    "                    kanjis[char][\"words\"].append({\"word\": word, \"importance\": index})\n",
    "            else:\n",
    "                kanjis[char] = {\n",
    "                    \"count\": 1,\n",
    "                    \"score\": 1 / (index + 1),\n",
    "                    \"words\": [{\"word\": word, \"importance\": index}],\n",
    "                }\n",
    "\n",
    "# Sort kanjis based on their prevalence \n",
    "kanjis_list = sorted(\n",
    "    [{\"kanji\": i, **kanjis[i]} for i in kanjis], key=lambda x: x[\"score\"], reverse=True\n",
    ")\n",
    "\n",
    "## Get kanjis only if they are used in at least 3 words\n",
    "kanjis_list = [i for i in kanjis_list if len(i[\"words\"]) > 3]"
   ]
  },
  {
   "cell_type": "code",
   "execution_count": 6,
   "metadata": {},
   "outputs": [],
   "source": [
    "# Remove some ambiguous kanji that are not really commonly used\n",
    "unwanted_kanjis = [\n",
    "    \"其\",\n",
    "    \"御\",\n",
    "    \"為\",\n",
    "    \"此\",\n",
    "    \"鱻\",\n",
    "    \"詞\",\n",
    "    \"掛\",\n",
    "    \"遣\",\n",
    "    \"又\",\n",
    "]\n",
    "\n",
    "kanjis_list = [i for i in kanjis_list if i[\"kanji\"] not in unwanted_kanjis]\n",
    "\n",
    "# Exclude some more kanjis that include an ambiguous kanji\n",
    "for i in kanjis_list:\n",
    "    i[\"words\"] = [j for j in i[\"words\"] if \"鱻\" not in j[\"word\"]]"
   ]
  },
  {
   "cell_type": "code",
   "execution_count": 7,
   "metadata": {},
   "outputs": [
    {
     "name": "stdout",
     "output_type": "stream",
     "text": [
      "0.居 1.有 2.言 3.十 4.無 5.出 6.来 7.成 8.分 9.良 10.見 11.百 12.行 13.名 14.大 15.何 16.一 17.代 18.二 19.入 20.人 21.方 22.処 23.下 24.自 25.私 26.三 27.上 28.千 29.時 30.五 31.子 32.日 33.取 34.四 35.生 36.間 37.物 38.聞 39.手 40.知 41.持 42.合 43.事 44.同 45.立 46.八 47.六 48.本 49.気 50.当 51.学 52.付 53.会 54.七 55.切 56.使 57.書 58.今 59.作 60.置 61.多 62.教 63.年 64.然 65.直 66.貴 67.話 68.九 69.地 70.食 71.中 72.部 73.前 74.少 75.長 76.先 77.味 78.小 79.意 80.国 81.問 82.引 83.電 84.月 85.明 86.未 87.高 88.仕 89.理 90.違 91.後 92.開 93.家 94.着 95.結 96.外 97.込 98.通 99.定 "
     ]
    }
   ],
   "source": [
    "# Check a snapshot of results\n",
    "for index, i in enumerate(kanjis_list[:100]):\n",
    "    print(f'{index}.{i[\"kanji\"]}', end=\" \")"
   ]
  },
  {
   "cell_type": "code",
   "execution_count": 8,
   "metadata": {},
   "outputs": [],
   "source": [
    "# Save the top 3000 kanjis\n",
    "with open(\"danyel_koca_most_common_3000_kanjis.json\", \"w\") as f:\n",
    "    json.dump(kanjis_list[:3000], f, ensure_ascii=False)"
   ]
  }
 ],
 "metadata": {
  "kernelspec": {
   "display_name": "Python 3",
   "language": "python",
   "name": "python3"
  },
  "language_info": {
   "codemirror_mode": {
    "name": "ipython",
    "version": 3
   },
   "file_extension": ".py",
   "mimetype": "text/x-python",
   "name": "python",
   "nbconvert_exporter": "python",
   "pygments_lexer": "ipython3",
   "version": "3.10.0"
  }
 },
 "nbformat": 4,
 "nbformat_minor": 2
}
